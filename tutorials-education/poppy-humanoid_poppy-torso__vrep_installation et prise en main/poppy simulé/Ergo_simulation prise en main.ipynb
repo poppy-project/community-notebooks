{
 "cells": [
  {
   "cell_type": "markdown",
   "metadata": {},
   "source": [
    "<img src=\"png/poppy.png\" HEIGHT=200 WIDTH=200 ALIGN=right>\n",
    "<img src=\"png/inria.jpg\" HEIGHT=150 WIDTH=325 ALIGN=left >"
   ]
  },
  {
   "cell_type": "markdown",
   "metadata": {},
   "source": [
    "# Premiers pas avec une créature\n",
    "\n",
    "##### 8 choses à savoir sur Ergo_Jr\n",
    "\n",
    "1. Ouvrir l'interface\n",
    "2. Instancier Ergo_Jr (démarrer la simulation)\n",
    "3. Redémarrer la simulation\n",
    "4. Eteindre la simulation\n",
    "5. Moteurs de Ergo_Jr\n",
    "6. Bouger - fonction goal_position & goto_position\n",
    "7. Capteurs de Ergo_Jr\n",
    "8. Particularités des modèles réels\n",
    "\n"
   ]
  },
  {
   "cell_type": "markdown",
   "metadata": {},
   "source": [
    "## 1 - Ouvrir l'interface\n",
    "\n",
    "#### Ouvrir V-REP\n",
    "#### Ouvrir Jupyter - ipython [vidéo démonstrative](https://www.youtube.com/watch?v=roWqTz9fQSE)\n",
    "\n",
    "- via un terminal avec la commande : ipython notebook\n",
    "- via l'exécutable: rechercher dans 'tout les programmes' anaconda\\IPython (Py 2.7) Notebook\n",
    "- via l'exécutable 'Launcher' : rechercher dans 'tout les programmes' anaconda\\Launcher\n",
    "\n",
    "\n",
    "- Pour Ergo réel : via http://poppy.local (ou si vous avez modifié le nom de votre Poppy: http://new-name.local)\n",
    "\n",
    "\n",
    "## 2 - Instancier Ergo_Jr\n",
    "Pour démarrer la simulation ; éxécuter les commandes suivantes:"
   ]
  },
  {
   "cell_type": "code",
   "execution_count": null,
   "metadata": {
    "collapsed": false
   },
   "outputs": [],
   "source": [
    "from poppy_ergo_jr import PoppyErgoJr\n",
    "creature = PoppyErgoJr(simulator='vrep')"
   ]
  },
  {
   "cell_type": "markdown",
   "metadata": {},
   "source": [
    "## 3 - Redémarrer la simulatiuon "
   ]
  },
  {
   "cell_type": "code",
   "execution_count": null,
   "metadata": {
    "collapsed": false
   },
   "outputs": [],
   "source": [
    "creature.reset_simulation()"
   ]
  },
  {
   "cell_type": "markdown",
   "metadata": {},
   "source": [
    "## 4 - Eteindre la simulation"
   ]
  },
  {
   "cell_type": "code",
   "execution_count": null,
   "metadata": {
    "collapsed": true
   },
   "outputs": [],
   "source": [
    "creature.stop_simulation()"
   ]
  },
  {
   "cell_type": "code",
   "execution_count": null,
   "metadata": {
    "collapsed": false
   },
   "outputs": [],
   "source": [
    "import pypot"
   ]
  },
  {
   "cell_type": "code",
   "execution_count": null,
   "metadata": {
    "collapsed": false
   },
   "outputs": [],
   "source": [
    "pypot.vrep.close_all_connections()"
   ]
  },
  {
   "cell_type": "markdown",
   "metadata": {},
   "source": [
    "Puis re-instancier Ergo_Jr"
   ]
  },
  {
   "cell_type": "code",
   "execution_count": null,
   "metadata": {
    "collapsed": false,
    "scrolled": true
   },
   "outputs": [],
   "source": [
    "from poppy_ergo_jr import PoppyErgoJr\n",
    "ergo = PoppyErgoJr(simulator='vrep')"
   ]
  },
  {
   "cell_type": "markdown",
   "metadata": {},
   "source": [
    "## 5 - Moteurs \n",
    "\n",
    "##### Ergo, comment tu fonctionnes?"
   ]
  },
  {
   "cell_type": "code",
   "execution_count": null,
   "metadata": {
    "collapsed": false
   },
   "outputs": [],
   "source": [
    "print\"Réponse:\"\n",
    "print \"j'ai\", len( ergo.motors ), \"moteurs\"\n",
    "print \"ils sont tous indexés dans une \", type( ergo.motors ), \"qui s'appelle ergo.motors \\n\\n la voici: \"\n",
    "for m in ergo.motors:\n",
    "    print \"-------------\"\n",
    "    print \"nom du moteur: \", m.name\n",
    "    print \"position actuelle du moteur: \", m.present_position, \"degrès\""
   ]
  },
  {
   "cell_type": "markdown",
   "metadata": {},
   "source": [
    "##### Explication:\n",
    "\n",
    "Ici on utilise une liste pour stocker le nom des moteurs: ergo.motors\n",
    "\n",
    "chaque moteur possède:\n",
    "\n",
    "- un nom ; exemple : ergo.head_z.name\n",
    "- une id ; exemple : ergo.head_z.id\n",
    "- une position courante ; exemple : ergo.head_z.present_position"
   ]
  },
  {
   "cell_type": "markdown",
   "metadata": {},
   "source": [
    "##### Aperçu de l'ensemble des moteurs:\n",
    "<img src=\"png/moteurs.png\" HEIGHT=800 WIDTH=600 ALIGN=center>"
   ]
  },
  {
   "cell_type": "markdown",
   "metadata": {},
   "source": [
    "## 6 - Bouger \n",
    "\n",
    "### Fonction 'goal_position'\n",
    "\n",
    "##### Ergo, tu es prêt ?"
   ]
  },
  {
   "cell_type": "code",
   "execution_count": null,
   "metadata": {
    "collapsed": false
   },
   "outputs": [],
   "source": [
    "# éteindre la simulation précédente...\n",
    "import pypot\n",
    "ergo.stop_simulation()\n",
    "pypot.vrep.close_all_connections()"
   ]
  },
  {
   "cell_type": "code",
   "execution_count": null,
   "metadata": {
    "collapsed": false
   },
   "outputs": [],
   "source": [
    "# ...avant d'en démarrer une nouvelle.\n",
    "from poppy_ergo_jr import PoppyErgoJr\n",
    "ergo = PoppyErgoJr(simulator='vrep')"
   ]
  },
  {
   "cell_type": "code",
   "execution_count": null,
   "metadata": {
    "collapsed": false
   },
   "outputs": [],
   "source": [
    "# Ergo dit oui\n",
    "for i in range(2):\n",
    "    ergo.m6.goal_position = -20\n",
    "    ergo.m6.goal_position = +20\n",
    "ergo.m6.goal_position = 0\n"
   ]
  },
  {
   "cell_type": "markdown",
   "metadata": {
    "collapsed": true
   },
   "source": [
    "##### Il ne se passe rien... si !\n",
    "##### mais Ego va trop vite, essayons ça :"
   ]
  },
  {
   "cell_type": "code",
   "execution_count": null,
   "metadata": {
    "collapsed": false
   },
   "outputs": [],
   "source": [
    "# Poppy dit oui\n",
    "import time\n",
    "for i in range(2):\n",
    "    ergo.m6.goal_position = -20\n",
    "    time.sleep(1)\n",
    "    ergo.m6.goal_position = +20\n",
    "    time.sleep(1)\n",
    "ergo.m6.goal_position = 0"
   ]
  },
  {
   "cell_type": "markdown",
   "metadata": {},
   "source": [
    "##### Explication:\n",
    "\n",
    "Ici on utilise la fonction '<b>goal_position</b>', précédée du nom du moteur, précédé du nom de la créature.\n",
    "\n",
    "Elle accepte des valeurs de positions allant de -180° à +180°<br>\n",
    "\n",
    "Les lignes de code s'exécutent de façon quasi instantannées ; même si la position (demandée en ligne précédente) n'a pas été atteinte.\n",
    "\n",
    "Le module 'Time' nous permet d'attendre (grâce à la fonction 'time.sleep') que le moteur ai atteint la position voulue avant d'exécuter la commande suivante."
   ]
  },
  {
   "cell_type": "markdown",
   "metadata": {},
   "source": [
    "### Fonction 'goto_position'\n",
    "\n",
    "##### Bonjour Ergo"
   ]
  },
  {
   "cell_type": "code",
   "execution_count": null,
   "metadata": {
    "collapsed": true
   },
   "outputs": [],
   "source": [
    "# Poppy dit oui\n",
    "for i in range(2):\n",
    "    ergo.m6.goto_position(-20,1,)\n",
    "    ergo.m6.goto_position(+20,1)\n",
    "ergo.m6.goal_position = 0"
   ]
  },
  {
   "cell_type": "code",
   "execution_count": null,
   "metadata": {
    "collapsed": false
   },
   "outputs": [],
   "source": [
    "# Poppy dit oui\n",
    "for i in range(2):\n",
    "    ergo.m6.goto_position(-20,1,wait=True)\n",
    "    ergo.m6.goto_position(+20,1,wait=True)\n",
    "ergo.m6.goal_position = 0"
   ]
  },
  {
   "cell_type": "markdown",
   "metadata": {},
   "source": [
    "##### Explication:\n",
    "\n",
    "Ici on utilise la fonction '<b>goto_position</b>', précédée du nom du moteur, précédé du nom de la créature.\n",
    "\n",
    "Elle accepte entre 2 et 3 paramètres:\n",
    " - la position en dégrès\n",
    " - le temps en secondes pour atteindre cette position\n",
    " - paramètre facultatif 'wait=True'\n",
    " \n",
    "L'option 'wait=True' permet d'attendre que la position soit atteinte avant de passer à la ligne suivante.<br>\n",
    "Par défaut 'wait=False' ne bloque pas le défilement, on peut donc lancer plusieurs moteurs au même moment."
   ]
  },
  {
   "cell_type": "markdown",
   "metadata": {},
   "source": [
    "## 7 - Capteurs\n",
    "\n",
    "L'Ergo_Jr possède un certain nombre de capteurs dans ses moteurs : position actuelle, force, température etc.\n",
    "\n",
    "L'Ergo_Jr possède égale une webcam lui permettant de reconnaitre des Qr code ou d'autres formes particulières présentes dans son environnement."
   ]
  },
  {
   "cell_type": "markdown",
   "metadata": {},
   "source": [
    "## 8 - Particularités des modèles réels\n",
    "\n",
    "- Les moteurs peuvent être dans deux états: compliant / non compliant\n",
    "\n",
    "    1. l'état compliant permet de déplacer manuellement les moteurs sans résistance.\n",
    "    2. l'état non compliant bloque les moteurs.\n",
    "    \n",
    "    Exemple: <br>\n",
    "    poppy.head_z.compliant = True<br>\n",
    "    poppy.head_z.compliant = False<br>\n",
    "\n",
    "\n",
    "- La vitesse des moteurs peut être modifiée via la fonction 'moving_speed'\n",
    "\n",
    "    Exemple: <br>\n",
    "    poppy.head_z.moving_speed = 150 #vitesse en milliseconde\n",
    "\n"
   ]
  },
  {
   "cell_type": "markdown",
   "metadata": {},
   "source": [
    "## A vous de jouer\n",
    "\n",
    "Créez une combinaison de mouvement pour que Ergo_Jr vous dise bonjour!"
   ]
  },
  {
   "cell_type": "code",
   "execution_count": null,
   "metadata": {
    "collapsed": true
   },
   "outputs": [],
   "source": [
    "#essaie ton code ici\n",
    "\n"
   ]
  },
  {
   "cell_type": "code",
   "execution_count": null,
   "metadata": {
    "collapsed": true
   },
   "outputs": [],
   "source": [
    "#RAPPEL, pour relancer la simulation\n",
    "ergo.reset_simulation()"
   ]
  },
  {
   "cell_type": "markdown",
   "metadata": {},
   "source": [
    "## Pour aller plus loin\n",
    "\n",
    "- La possibilité d'ajouter des objets interactifs (balle, cube, etc) plus de details [ici](https://forum.poppy-project.org/t/torso-interacting-with-objects-in-v-rep/1321)\n",
    "\n",
    "- Installation détaillée [ici](https://github.com/HumaRobotics/poppy-examples/blob/master/doc/softwareGuide/softwareGuide.pdf)\n",
    "\n",
    "- d'autres notebooks pour\n",
    "[V-REP](http://nbviewer.ipython.org/github/poppy-project/pypot/blob/master/samples/notebooks/Controlling%20a%20Poppy%20humanoid%20in%20V-REP%20using%20pypot.ipynb) ;\n",
    "[Torso](http://nbviewer.ipython.org/github/poppy-project/poppy-torso/blob/master/software/doc/tutorial/Poppy%20Torso%20interacting%20with%20objects%20in%20V-REP%20using%20Pypot.ipynb) ;\n",
    "[Snap!](http://nbviewer.ipython.org/github/poppy-project/pypot/blob/master/samples/notebooks/Controlling%20a%20Poppy%20Creature%20using%20SNAP.ipynb) ;\n",
    "et l'ensemble des notebooks via le site [poppy-project.org](http://poppy-project.org)\n"
   ]
  },
  {
   "cell_type": "code",
   "execution_count": null,
   "metadata": {
    "collapsed": true
   },
   "outputs": [],
   "source": [
    "# essaies ton propre code ;)\n",
    "\n",
    "\n"
   ]
  }
 ],
 "metadata": {
  "kernelspec": {
   "display_name": "Python 2",
   "language": "python",
   "name": "python2"
  },
  "language_info": {
   "codemirror_mode": {
    "name": "ipython",
    "version": 2
   },
   "file_extension": ".py",
   "mimetype": "text/x-python",
   "name": "python",
   "nbconvert_exporter": "python",
   "pygments_lexer": "ipython2",
   "version": "2.7.10"
  }
 },
 "nbformat": 4,
 "nbformat_minor": 0
}
